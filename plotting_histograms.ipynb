{
 "cells": [
  {
   "cell_type": "markdown",
   "metadata": {},
   "source": [
    "# Python Visualisation Using Matplot Library"
   ]
  },
  {
   "cell_type": "code",
   "execution_count": 2,
   "metadata": {},
   "outputs": [],
   "source": [
    "#let us start with a horizontal histogram \n",
    "# first of we need the important libraries to perform our job\n",
    "\n",
    "import pandas as pd\n",
    "import numpy as np\n",
    "import matplotlib.pyplot as plt"
   ]
  },
  {
   "cell_type": "markdown",
   "metadata": {},
   "source": [
    "# HISTOGRAMS"
   ]
  },
  {
   "cell_type": "code",
   "execution_count": 7,
   "metadata": {},
   "outputs": [],
   "source": [
    "#let us a create dataframe by generating random numbers within the range of 1000 and assigning to three attributes\n",
    "\n",
    "df = pd.DataFrame({'a': np.random.randn(1000) + 1,\n",
    "'b': np.random.randn(1000),\n",
    "'c': np.random.randn(1000) - 1},\n",
    "columns=['a', 'b', 'c'])"
   ]
  },
  {
   "cell_type": "code",
   "execution_count": 8,
   "metadata": {},
   "outputs": [
    {
     "name": "stdout",
     "output_type": "stream",
     "text": [
      "            a         b         c\n",
      "0    2.157630 -0.506008 -1.135166\n",
      "1    0.370623  1.626927 -1.479037\n",
      "2    2.066472  0.419040 -1.245878\n",
      "3    0.928030 -0.306159  1.477508\n",
      "4    1.827412 -0.687965 -1.232910\n",
      "..        ...       ...       ...\n",
      "995  0.700934 -1.066365 -3.580874\n",
      "996  1.042727 -1.116470 -1.422780\n",
      "997  0.315522 -0.574279 -1.982147\n",
      "998  0.969066  1.087815 -0.698609\n",
      "999 -0.058138  3.618773  0.396687\n",
      "\n",
      "[1000 rows x 3 columns]\n"
     ]
    }
   ],
   "source": [
    "#let us see our dataframe.\n",
    "print(df)"
   ]
  },
  {
   "cell_type": "code",
   "execution_count": 10,
   "metadata": {},
   "outputs": [
    {
     "data": {
      "image/png": "[encoded data removed]",
      "text/plain": [
       "<Figure size 432x288 with 1 Axes>"
      ]
     },
     "metadata": {
      "needs_background": "light"
     },
     "output_type": "display_data"
    }
   ],
   "source": [
    "#so we created a dataframe... now let us plot it..\n",
    "\n",
    "plt.figure()   #creates a figure\n",
    "df['a'].plot.hist(orientation='horizontal', cumulative=True)\n",
    "plt.show()"
   ]
  },
  {
   "cell_type": "code",
   "execution_count": 11,
   "metadata": {},
   "outputs": [
    {
     "data": {
      "image/png": "[encoded data removed]",
      "text/plain": [
       "<Figure size 432x288 with 1 Axes>"
      ]
     },
     "metadata": {
      "needs_background": "light"
     },
     "output_type": "display_data"
    }
   ],
   "source": [
    "#perfect this same can be repeated as vertical by just changing the orientation\n",
    "#so we created a dataframe... now let us plot it..\n",
    "\n",
    "plt.figure()   #creates a figure\n",
    "df['a'].plot.hist(orientation='vertical', cumulative=True)\n",
    "plt.show()"
   ]
  },
  {
   "cell_type": "code",
   "execution_count": 12,
   "metadata": {},
   "outputs": [
    {
     "data": {
      "image/png": "[encoded data removed]",
      "text/plain": [
       "<Figure size 432x288 with 4 Axes>"
      ]
     },
     "metadata": {
      "needs_background": "light"
     },
     "output_type": "display_data"
    }
   ],
   "source": [
    "df.diff().hist(color='k', alpha=0.5, bins=50)   #this shows all three variable plotted in range.\n",
    "plt.show()"
   ]
  },
  {
   "cell_type": "code",
   "execution_count": null,
   "metadata": {},
   "outputs": [],
   "source": []
  }
 ],
 "metadata": {
  "kernelspec": {
   "display_name": "Python 3",
   "language": "python",
   "name": "python3"
  },
  "language_info": {
   "codemirror_mode": {
    "name": "ipython",
    "version": 3
   },
   "file_extension": ".py",
   "mimetype": "text/x-python",
   "name": "python",
   "nbconvert_exporter": "python",
   "pygments_lexer": "ipython3",
   "version": "3.8.5"
  }
 },
 "nbformat": 4,
 "nbformat_minor": 4
}
